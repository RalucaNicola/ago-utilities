{
 "cells": [
  {
   "cell_type": "code",
   "execution_count": 83,
   "metadata": {},
   "outputs": [
    {
     "name": "stdout",
     "output_type": "stream",
     "text": [
      "For the month of July, there are 411509 rides.\n"
     ]
    }
   ],
   "source": [
    "import pandas as pd\n",
    "import matplotlib.pyplot as plt\n",
    "import arcpy\n",
    "%matplotlib inline\n",
    "workspace= r\"C:\\Users\\rauc8872\\Documents\\ArcGIS\\Projects\\CambridgeLiveBikeData\\CambridgeLiveBikeData.gdb\"\n",
    "original_file_path = r\"C:\\Users\\rauc8872\\Documents\\ArcGIS\\Projects\\CambridgeLiveBikeData\\202307-bluebikes-tripdata\\202307-bluebikes-tripdata.csv\"\n",
    "processed_file_path = r\"C:\\Users\\rauc8872\\Documents\\ArcGIS\\Projects\\CambridgeLiveBikeData\\202307-bluebikes-tripdata\\20230720-bluebikes-cambridge.csv\"\n",
    "df  = pd.read_csv(original_file_path)\n",
    "\n",
    "print(\"For the month of July, there are {} rides.\".format(df.shape[0]))"
   ]
  },
  {
   "cell_type": "markdown",
   "metadata": {
    "heading_collapsed": true
   },
   "source": [
    "#### Select trips that have either start or end station in Cambridge"
   ]
  },
  {
   "cell_type": "code",
   "execution_count": 52,
   "metadata": {
    "hidden": true
   },
   "outputs": [
    {
     "name": "stdout",
     "output_type": "stream",
     "text": [
      "Out of these, 188875 rides were from or to a station in Cambridge.\n"
     ]
    },
    {
     "data": {
      "text/html": [
       "<div>\n",
       "<style scoped>\n",
       "    .dataframe tbody tr th:only-of-type {\n",
       "        vertical-align: middle;\n",
       "    }\n",
       "\n",
       "    .dataframe tbody tr th {\n",
       "        vertical-align: top;\n",
       "    }\n",
       "\n",
       "    .dataframe thead th {\n",
       "        text-align: right;\n",
       "    }\n",
       "</style>\n",
       "<table border=\"1\" class=\"dataframe\">\n",
       "  <thead>\n",
       "    <tr style=\"text-align: right;\">\n",
       "      <th></th>\n",
       "      <th>ride_id</th>\n",
       "      <th>rideable_type</th>\n",
       "      <th>started_at</th>\n",
       "      <th>ended_at</th>\n",
       "      <th>start_station_name</th>\n",
       "      <th>start_station_id</th>\n",
       "      <th>end_station_name</th>\n",
       "      <th>end_station_id</th>\n",
       "      <th>start_lat</th>\n",
       "      <th>start_lng</th>\n",
       "      <th>end_lat</th>\n",
       "      <th>end_lng</th>\n",
       "      <th>member_casual</th>\n",
       "    </tr>\n",
       "  </thead>\n",
       "  <tbody>\n",
       "    <tr>\n",
       "      <th>7</th>\n",
       "      <td>72DAD656ADA460A6</td>\n",
       "      <td>docked_bike</td>\n",
       "      <td>2023-07-31 14:09:39</td>\n",
       "      <td>2023-07-31 14:40:08</td>\n",
       "      <td>Cambridge Main Library at Broadway / Trowbridg...</td>\n",
       "      <td>M32013</td>\n",
       "      <td>Northeastern University - North Parking Lot</td>\n",
       "      <td>B32012</td>\n",
       "      <td>42.373379</td>\n",
       "      <td>-71.111075</td>\n",
       "      <td>42.341814</td>\n",
       "      <td>-71.090179</td>\n",
       "      <td>member</td>\n",
       "    </tr>\n",
       "    <tr>\n",
       "      <th>8</th>\n",
       "      <td>0D759914BFDE6F29</td>\n",
       "      <td>docked_bike</td>\n",
       "      <td>2023-07-27 19:15:53</td>\n",
       "      <td>2023-07-27 19:46:24</td>\n",
       "      <td>Cambridge Main Library at Broadway / Trowbridg...</td>\n",
       "      <td>M32013</td>\n",
       "      <td>Hayes Square - Vine St at Moulton St</td>\n",
       "      <td>D32026</td>\n",
       "      <td>42.373379</td>\n",
       "      <td>-71.111075</td>\n",
       "      <td>42.377022</td>\n",
       "      <td>-71.056605</td>\n",
       "      <td>member</td>\n",
       "    </tr>\n",
       "    <tr>\n",
       "      <th>9</th>\n",
       "      <td>FEE09BC9C061278C</td>\n",
       "      <td>docked_bike</td>\n",
       "      <td>2023-07-26 22:14:28</td>\n",
       "      <td>2023-07-26 22:58:30</td>\n",
       "      <td>Roxbury Crossing T Stop - Columbus Ave at Trem...</td>\n",
       "      <td>C32001</td>\n",
       "      <td>Broad Canal Way at Third Street</td>\n",
       "      <td>M32082</td>\n",
       "      <td>42.331184</td>\n",
       "      <td>-71.095171</td>\n",
       "      <td>42.363045</td>\n",
       "      <td>-71.082871</td>\n",
       "      <td>casual</td>\n",
       "    </tr>\n",
       "    <tr>\n",
       "      <th>13</th>\n",
       "      <td>B95B1472F8242FBF</td>\n",
       "      <td>docked_bike</td>\n",
       "      <td>2023-07-24 19:58:35</td>\n",
       "      <td>2023-07-24 20:15:16</td>\n",
       "      <td>Cambridge Dept. of Public Works -147 Hampshire...</td>\n",
       "      <td>M32052</td>\n",
       "      <td>Christian Science Plaza - Massachusetts Ave at...</td>\n",
       "      <td>B32005</td>\n",
       "      <td>42.371197</td>\n",
       "      <td>-71.097599</td>\n",
       "      <td>42.343666</td>\n",
       "      <td>-71.085824</td>\n",
       "      <td>member</td>\n",
       "    </tr>\n",
       "    <tr>\n",
       "      <th>22</th>\n",
       "      <td>08AA4CE9E5D6ABF0</td>\n",
       "      <td>docked_bike</td>\n",
       "      <td>2023-07-12 17:31:49</td>\n",
       "      <td>2023-07-12 17:42:41</td>\n",
       "      <td>Binney St / Sixth St</td>\n",
       "      <td>M32027</td>\n",
       "      <td>Bunker Hill Community College</td>\n",
       "      <td>A32023</td>\n",
       "      <td>42.366088</td>\n",
       "      <td>-71.086336</td>\n",
       "      <td>42.374090</td>\n",
       "      <td>-71.069060</td>\n",
       "      <td>member</td>\n",
       "    </tr>\n",
       "  </tbody>\n",
       "</table>\n",
       "</div>"
      ],
      "text/plain": [
       "             ride_id rideable_type  ...    end_lng member_casual\n",
       "7   72DAD656ADA460A6   docked_bike  ... -71.090179        member\n",
       "8   0D759914BFDE6F29   docked_bike  ... -71.056605        member\n",
       "9   FEE09BC9C061278C   docked_bike  ... -71.082871        casual\n",
       "13  B95B1472F8242FBF   docked_bike  ... -71.085824        member\n",
       "22  08AA4CE9E5D6ABF0   docked_bike  ... -71.069060        member\n",
       "\n",
       "[5 rows x 13 columns]"
      ]
     },
     "execution_count": 52,
     "metadata": {},
     "output_type": "execute_result"
    }
   ],
   "source": [
    "# Function to check if the station ID matches the criteria\n",
    "def check_station_id(station_id):\n",
    "    if isinstance(station_id, str) and station_id.startswith('M'):\n",
    "        try:\n",
    "            station_number = int(station_id[1:])\n",
    "            return 32001 <= station_number <= 32087\n",
    "        except ValueError:\n",
    "            return False\n",
    "    return False\n",
    "# Filter rows based on the criteria for start_station_id or end_station_id\n",
    "cambridge_df = df[df.apply(lambda row: check_station_id(row['start_station_id']) or check_station_id(row['end_station_id']), axis=1)].copy()\n",
    "print(\"Out of these, {} rides were from or to a station in Cambridge.\".format(cambridge_df.shape[0]))\n",
    "cambridge_df.head(5)"
   ]
  },
  {
   "cell_type": "markdown",
   "metadata": {
    "heading_collapsed": true,
    "hidden": true
   },
   "source": [
    "##### Length of the trips"
   ]
  },
  {
   "cell_type": "code",
   "execution_count": 53,
   "metadata": {
    "hidden": true
   },
   "outputs": [
    {
     "name": "stdout",
     "output_type": "stream",
     "text": [
      "167203 trips between 0 and 30 minutes\n",
      " 16621 trips between 30 and 60 minutes\n",
      " 3731 trips between 1 and 2 hours\n",
      " 919 trips between 2 and 8 hours\n",
      " 268 trips longer than 8 hours\n"
     ]
    }
   ],
   "source": [
    "# Convert the 'started_at' and 'ended_at' columns to datetime format\n",
    "cambridge_df['started_at'] = pd.to_datetime(cambridge_df['started_at'])\n",
    "cambridge_df['ended_at'] = pd.to_datetime(cambridge_df['ended_at'])\n",
    "\n",
    "# Calculate the duration of each trip in minutes\n",
    "cambridge_df['duration_minutes'] = (cambridge_df['ended_at'] - cambridge_df['started_at']).dt.total_seconds() / 60\n",
    "\n",
    "# Remove any negative or zero durations, if they exist\n",
    "cambridge_df = cambridge_df[cambridge_df['duration_minutes'] > 0]\n",
    "\n",
    "# check how many rides were below half an hour, up to 2 hours, up to 8 hours and more than 8 hours.\n",
    "bins = [0, 30, 60, 120, 480, 1440, 100000]\n",
    "binned_data = pd.cut(cambridge_df['duration_minutes'], bins)\n",
    "hist_as_series = binned_data.value_counts(sort = False).to_numpy()\n",
    "print(\"{} trips between 0 and 30 minutes\\n {} trips between 30 and 60 minutes\\n {} trips between 1 and 2 hours\\n {} trips between 2 and 8 hours\\n {} trips longer than 8 hours\".format(hist_as_series[0], hist_as_series[1], hist_as_series[2], hist_as_series[3], hist_as_series[4]))"
   ]
  },
  {
   "cell_type": "markdown",
   "metadata": {
    "heading_collapsed": true
   },
   "source": [
    "#### How many trips did each day have?"
   ]
  },
  {
   "cell_type": "code",
   "execution_count": 54,
   "metadata": {
    "hidden": true,
    "scrolled": true
   },
   "outputs": [
    {
     "data": {
      "image/png": "[encoded data removed]",
      "text/plain": [
       "<Figure size 1200x600 with 1 Axes>"
      ]
     },
     "metadata": {},
     "output_type": "display_data"
    }
   ],
   "source": [
    "# Extract the day from the \"started_at\" column\n",
    "cambridge_df['start_day'] = pd.to_datetime(cambridge_df['started_at']).dt.day\n",
    "\n",
    "# Plot a histogram\n",
    "plt.figure(figsize=(12, 6))\n",
    "plt.hist(cambridge_df['start_day'], bins=range(1,33), edgecolor='black', alpha=0.7)\n",
    "plt.title('Histogram of all bike trips by month day in Cambridge in July 2023')\n",
    "plt.xlabel('Day')\n",
    "plt.ylabel('Number of trips')\n",
    "plt.xticks(range(1,33))\n",
    "plt.grid(axis='y')\n",
    "plt.tight_layout()\n",
    "\n",
    "plt.show()"
   ]
  },
  {
   "cell_type": "code",
   "execution_count": 57,
   "metadata": {
    "hidden": true,
    "scrolled": true
   },
   "outputs": [
    {
     "data": {
      "image/png": "[encoded data removed]",
      "text/plain": [
       "<Figure size 1200x600 with 1 Axes>"
      ]
     },
     "metadata": {},
     "output_type": "display_data"
    }
   ],
   "source": [
    "# Filter only trips that are on the same day and are shorter than half an hour\n",
    "cambridge_df['end_day'] = pd.to_datetime(cambridge_df['ended_at']).dt.day\n",
    "same_day_trips = cambridge_df[cambridge_df['start_day'] == cambridge_df['end_day']]\n",
    "cambridge_short_trips_df = same_day_trips[same_day_trips['duration_minutes'] < 30]\n",
    "\n",
    "\n",
    "# Plot a histogram\n",
    "plt.figure(figsize=(12, 6))\n",
    "plt.hist(cambridge_short_trips_df['start_day'], bins=range(1,33), edgecolor='black', alpha=0.7)\n",
    "plt.title('Histogram of bike trips shorter than half an hour by month day in Cambridge in July 2023')\n",
    "plt.xlabel('Day')\n",
    "plt.ylabel('Number of trips')\n",
    "plt.xticks(range(1,33))\n",
    "plt.grid(axis='y')\n",
    "plt.tight_layout()\n",
    "\n",
    "plt.show()"
   ]
  },
  {
   "cell_type": "markdown",
   "metadata": {},
   "source": [
    "#### Select a single day for further analysis"
   ]
  },
  {
   "cell_type": "code",
   "execution_count": 63,
   "metadata": {},
   "outputs": [
    {
     "data": {
      "text/plain": [
       "20    7014\n",
       "26    6993\n",
       "19    6795\n",
       "13    6779\n",
       "11    6543\n",
       "Name: start_day, dtype: int64"
      ]
     },
     "execution_count": 63,
     "metadata": {},
     "output_type": "execute_result"
    }
   ],
   "source": [
    "# Get top five days with most short trips in the same day\n",
    "no_trips_per_day = cambridge_short_trips_df['start_day'].value_counts()\n",
    "no_trips_per_day.head(5)"
   ]
  },
  {
   "cell_type": "code",
   "execution_count": 68,
   "metadata": {},
   "outputs": [
    {
     "data": {
      "text/html": [
       "<div>\n",
       "<style scoped>\n",
       "    .dataframe tbody tr th:only-of-type {\n",
       "        vertical-align: middle;\n",
       "    }\n",
       "\n",
       "    .dataframe tbody tr th {\n",
       "        vertical-align: top;\n",
       "    }\n",
       "\n",
       "    .dataframe thead th {\n",
       "        text-align: right;\n",
       "    }\n",
       "</style>\n",
       "<table border=\"1\" class=\"dataframe\">\n",
       "  <thead>\n",
       "    <tr style=\"text-align: right;\">\n",
       "      <th></th>\n",
       "      <th>ride_id</th>\n",
       "      <th>rideable_type</th>\n",
       "      <th>started_at</th>\n",
       "      <th>ended_at</th>\n",
       "      <th>start_station_name</th>\n",
       "      <th>start_station_id</th>\n",
       "      <th>end_station_name</th>\n",
       "      <th>end_station_id</th>\n",
       "      <th>start_lat</th>\n",
       "      <th>start_lng</th>\n",
       "      <th>end_lat</th>\n",
       "      <th>end_lng</th>\n",
       "      <th>member_casual</th>\n",
       "      <th>duration_minutes</th>\n",
       "      <th>start_day</th>\n",
       "      <th>end_day</th>\n",
       "    </tr>\n",
       "  </thead>\n",
       "  <tbody>\n",
       "    <tr>\n",
       "      <th>24</th>\n",
       "      <td>8E2B593D6BBF9F70</td>\n",
       "      <td>docked_bike</td>\n",
       "      <td>2023-07-20 18:24:41</td>\n",
       "      <td>2023-07-20 18:36:06</td>\n",
       "      <td>Binney St / Sixth St</td>\n",
       "      <td>M32027</td>\n",
       "      <td>Bunker Hill Community College</td>\n",
       "      <td>A32023</td>\n",
       "      <td>42.366088</td>\n",
       "      <td>-71.086336</td>\n",
       "      <td>42.374090</td>\n",
       "      <td>-71.069060</td>\n",
       "      <td>member</td>\n",
       "      <td>11.416667</td>\n",
       "      <td>20</td>\n",
       "      <td>20</td>\n",
       "    </tr>\n",
       "    <tr>\n",
       "      <th>95</th>\n",
       "      <td>0CBAA7A6B86DFF6F</td>\n",
       "      <td>docked_bike</td>\n",
       "      <td>2023-07-20 17:08:13</td>\n",
       "      <td>2023-07-20 17:25:27</td>\n",
       "      <td>MIT Stata Center at Vassar St / Main St</td>\n",
       "      <td>M32005</td>\n",
       "      <td>Christian Science Plaza - Massachusetts Ave at...</td>\n",
       "      <td>B32005</td>\n",
       "      <td>42.362131</td>\n",
       "      <td>-71.091156</td>\n",
       "      <td>42.343666</td>\n",
       "      <td>-71.085824</td>\n",
       "      <td>member</td>\n",
       "      <td>17.233333</td>\n",
       "      <td>20</td>\n",
       "      <td>20</td>\n",
       "    </tr>\n",
       "    <tr>\n",
       "      <th>105</th>\n",
       "      <td>12DE76C8215A9C15</td>\n",
       "      <td>docked_bike</td>\n",
       "      <td>2023-07-20 20:36:05</td>\n",
       "      <td>2023-07-20 20:53:05</td>\n",
       "      <td>Galileo Galilei Way at Main Street</td>\n",
       "      <td>M32072</td>\n",
       "      <td>Deerfield St at Commonwealth Ave</td>\n",
       "      <td>B32037</td>\n",
       "      <td>42.363004</td>\n",
       "      <td>-71.089740</td>\n",
       "      <td>42.349244</td>\n",
       "      <td>-71.097282</td>\n",
       "      <td>member</td>\n",
       "      <td>17.000000</td>\n",
       "      <td>20</td>\n",
       "      <td>20</td>\n",
       "    </tr>\n",
       "    <tr>\n",
       "      <th>134</th>\n",
       "      <td>9E87202EA75DAD1B</td>\n",
       "      <td>docked_bike</td>\n",
       "      <td>2023-07-20 08:28:56</td>\n",
       "      <td>2023-07-20 08:34:06</td>\n",
       "      <td>Harvard University River Houses at DeWolfe St ...</td>\n",
       "      <td>M32038</td>\n",
       "      <td>Harvard University / SEAS Cruft-Pierce Halls a...</td>\n",
       "      <td>M32023</td>\n",
       "      <td>42.369239</td>\n",
       "      <td>-71.116870</td>\n",
       "      <td>42.377945</td>\n",
       "      <td>-71.116865</td>\n",
       "      <td>member</td>\n",
       "      <td>5.166667</td>\n",
       "      <td>20</td>\n",
       "      <td>20</td>\n",
       "    </tr>\n",
       "    <tr>\n",
       "      <th>329</th>\n",
       "      <td>E355388F246A4734</td>\n",
       "      <td>docked_bike</td>\n",
       "      <td>2023-07-20 16:57:24</td>\n",
       "      <td>2023-07-20 17:26:21</td>\n",
       "      <td>Binney St / Sixth St</td>\n",
       "      <td>M32027</td>\n",
       "      <td>Broad Canal Way at Third Street</td>\n",
       "      <td>M32082</td>\n",
       "      <td>42.366088</td>\n",
       "      <td>-71.086336</td>\n",
       "      <td>42.363045</td>\n",
       "      <td>-71.082871</td>\n",
       "      <td>member</td>\n",
       "      <td>28.950000</td>\n",
       "      <td>20</td>\n",
       "      <td>20</td>\n",
       "    </tr>\n",
       "  </tbody>\n",
       "</table>\n",
       "</div>"
      ],
      "text/plain": [
       "              ride_id rideable_type  ... start_day end_day\n",
       "24   8E2B593D6BBF9F70   docked_bike  ...        20      20\n",
       "95   0CBAA7A6B86DFF6F   docked_bike  ...        20      20\n",
       "105  12DE76C8215A9C15   docked_bike  ...        20      20\n",
       "134  9E87202EA75DAD1B   docked_bike  ...        20      20\n",
       "329  E355388F246A4734   docked_bike  ...        20      20\n",
       "\n",
       "[5 rows x 16 columns]"
      ]
     },
     "execution_count": 68,
     "metadata": {},
     "output_type": "execute_result"
    }
   ],
   "source": [
    "# Select bike trips for the day with most bike trips\n",
    "most_trips_day = no_trips_per_day.idxmax()\n",
    "cambridge_trips_0720 = cambridge_short_trips_df[cambridge_short_trips_df['start_day'] == most_trips_day]\n",
    "cambridge_trips_0720.head()"
   ]
  },
  {
   "cell_type": "code",
   "execution_count": 71,
   "metadata": {},
   "outputs": [
    {
     "data": {
      "text/plain": [
       "(7014, 16)"
      ]
     },
     "execution_count": 71,
     "metadata": {},
     "output_type": "execute_result"
    }
   ],
   "source": [
    "# Sort by start time of the trip\n",
    "\n",
    "cambridge_trips_0720_sorted = cambridge_trips_0720.sort_values(by='started_at')\n",
    "cambridge_trips_0720_sorted.shape"
   ]
  },
  {
   "cell_type": "code",
   "execution_count": 79,
   "metadata": {},
   "outputs": [],
   "source": [
    "# Export bike trips to csv\n",
    "cambridge_trips_0720_sorted.to_csv(processed_file_path, index=False)"
   ]
  },
  {
   "cell_type": "markdown",
   "metadata": {},
   "source": [
    "#### Convert the dataframe to origin and destination points feature layer"
   ]
  },
  {
   "cell_type": "code",
   "execution_count": 84,
   "metadata": {},
   "outputs": [
    {
     "data": {
      "text/html": [
       "<div class='gpresult'><h2>Messages</h2><div id='messages' data-messages='[\"Start Time: Tuesday, September 26, 2023 8:54:21 PM\",\"Succeeded at Tuesday, September 26, 2023 8:54:23 PM (Elapsed Time: 2.58 seconds)\"]' data-show='true'><div id = 'default' /></div></div>"
      ],
      "text/plain": [
       "<Result 'C:\\\\Users\\\\rauc8872\\\\Documents\\\\ArcGIS\\\\Projects\\\\CambridgeLiveBikeData\\\\CambridgeLiveBikeData.gdb\\\\bluebikes_origin'>"
      ]
     },
     "execution_count": 84,
     "metadata": {},
     "output_type": "execute_result"
    }
   ],
   "source": [
    "arcpy.env.workspace = workspace\n",
    "in_table = processed_file_path\n",
    "spatial_reference = arcpy.SpatialReference(4326)\n"
   ]
  },
  {
   "cell_type": "code",
   "execution_count": 89,
   "metadata": {},
   "outputs": [
    {
     "data": {
      "text/html": [
       "<div class='gpresult'><h2>Messages</h2><div id='messages' data-messages='[\"Start Time: Tuesday, September 26, 2023 9:11:43 PM\",\"Succeeded at Tuesday, September 26, 2023 9:11:48 PM (Elapsed Time: 5.14 seconds)\"]' data-show='true'><div id = 'default' /></div></div>"
      ],
      "text/plain": [
       "<Result 'C:\\\\Users\\\\rauc8872\\\\Documents\\\\ArcGIS\\\\Projects\\\\CambridgeLiveBikeData\\\\CambridgeLiveBikeData.gdb\\\\bluebikes_origin'>"
      ]
     },
     "execution_count": 89,
     "metadata": {},
     "output_type": "execute_result"
    }
   ],
   "source": [
    "x_coords = \"start_lng\"\n",
    "y_coords = \"start_lat\"\n",
    "origin_points_fc = \"bluebikes_origin\"\n",
    "arcpy.management.XYTableToPoint(in_table, origin_points_fc, x_coords, y_coords, coordinate_system=spatial_reference)"
   ]
  },
  {
   "cell_type": "code",
   "execution_count": 86,
   "metadata": {},
   "outputs": [
    {
     "data": {
      "text/html": [
       "<div class='gpresult'><h2>Messages</h2><div id='messages' data-messages='[\"Start Time: Tuesday, September 26, 2023 8:56:52 PM\",\"WARNING 040401: NULL geometry ignored. ObjectID = 44, 1953, 2433, 3868, 3981, 4578, 5408, 5675, 6663, 6859\",\"Succeeded at Tuesday, September 26, 2023 8:56:54 PM (Elapsed Time: 2.20 seconds)\"]' data-show='true'><div id = 'default' /></div></div>"
      ],
      "text/plain": [
       "<Result 'C:\\\\Users\\\\rauc8872\\\\Documents\\\\ArcGIS\\\\Projects\\\\CambridgeLiveBikeData\\\\CambridgeLiveBikeData.gdb\\\\bluebikes_destination'>"
      ]
     },
     "execution_count": 86,
     "metadata": {},
     "output_type": "execute_result"
    }
   ],
   "source": [
    "x_coords_dest = \"end_lng\"\n",
    "y_coords_dest = \"end_lat\"\n",
    "destination_points_fc = \"bluebikes_destination\"\n",
    "arcpy.management.XYTableToPoint(in_table, destination_points_fc, x_coords_dest, y_coords_dest, coordinate_system=spatial_reference)"
   ]
  },
  {
   "cell_type": "code",
   "execution_count": 90,
   "metadata": {},
   "outputs": [
    {
     "data": {
      "text/html": [
       "<div class='gpresult'><h2>Messages</h2><div id='messages' data-messages='[\"Start Time: Tuesday, September 26, 2023 9:11:57 PM\",\"Succeeded at Tuesday, September 26, 2023 9:11:58 PM (Elapsed Time: 1.27 seconds)\"]' data-show='true'><div id = 'default' /></div></div>"
      ],
      "text/plain": [
       "<Result 'bluebikes_origin'>"
      ]
     },
     "execution_count": 90,
     "metadata": {},
     "output_type": "execute_result"
    }
   ],
   "source": [
    "# Delete and rename fields for origin and destination\n",
    "\n",
    "arcpy.management.DeleteField(origin_points_fc, ['rideable_type', \"end_station_name\", \"end_station_id\", \"start_lat\", \"start_lng\", \"end_lat\", \"end_lng\", \"start_day\", \"end_day\"])\n",
    "arcpy.management.AlterField(origin_points_fc, \"start_station_id\", \"station_id\", \"station_id\")\n",
    "arcpy.management.AlterField(origin_points_fc, \"start_station_name\", \"station_name\", \"station_name\")\n",
    "\n",
    "arcpy.management.DeleteField(destination_points_fc, ['rideable_type', \"start_station_name\", \"start_station_id\", \"start_lat\", \"start_lng\", \"end_lat\", \"end_lng\", \"start_day\", \"end_day\"])\n",
    "arcpy.management.AlterField(destination_points_fc, \"end_station_id\", \"station_id\", \"station_id\")\n",
    "arcpy.management.AlterField(destination_points_fc, \"end_station_name\", \"station_name\", \"station_name\")"
   ]
  },
  {
   "cell_type": "code",
   "execution_count": 95,
   "metadata": {},
   "outputs": [
    {
     "data": {
      "text/html": [
       "<div class='gpresult'><h2>Messages</h2><div id='messages' data-messages='[\"Start Time: Tuesday, September 26, 2023 9:17:35 PM\",\"Succeeded at Tuesday, September 26, 2023 9:17:36 PM (Elapsed Time: 0.89 seconds)\"]' data-show='true'><div id = 'default' /></div></div>"
      ],
      "text/plain": [
       "<Result 'C:\\\\Users\\\\rauc8872\\\\Documents\\\\ArcGIS\\\\Projects\\\\CambridgeLiveBikeData\\\\CambridgeLiveBikeData.gdb\\\\bluebikes_route_stops'>"
      ]
     },
     "execution_count": 95,
     "metadata": {},
     "output_type": "execute_result"
    }
   ],
   "source": [
    "# Merge feature classes into a single bluebikes_route_stops feature class\n",
    "\n",
    "route_stops_fc = \"bluebikes_route_stops\"\n",
    "\n",
    "arcpy.management.Merge([origin_points_fc, destination_points_fc], route_stops_fc)"
   ]
  },
  {
   "cell_type": "code",
   "execution_count": 92,
   "metadata": {},
   "outputs": [
    {
     "data": {
      "text/html": [
       "<div class='gpresult'><h2>Messages</h2><div id='messages' data-messages='[\"Start Time: Tuesday, September 26, 2023 9:13:13 PM\",\"Succeeded at Tuesday, September 26, 2023 9:13:13 PM (Elapsed Time: 0.53 seconds)\"]' data-show='true'><div id = 'default' /></div></div>"
      ],
      "text/plain": [
       "<Result 'bluebikes_origin'>"
      ]
     },
     "execution_count": 92,
     "metadata": {},
     "output_type": "execute_result"
    }
   ],
   "source": []
  },
  {
   "cell_type": "code",
   "execution_count": null,
   "metadata": {},
   "outputs": [],
   "source": []
  }
 ],
 "metadata": {
  "kernelspec": {
   "display_name": "ArcGISPro",
   "language": "Python",
   "name": "python3"
  },
  "language_info": {
   "file_extension": ".py",
   "name": "python",
   "version": "3"
  }
 },
 "nbformat": 4,
 "nbformat_minor": 2
}
