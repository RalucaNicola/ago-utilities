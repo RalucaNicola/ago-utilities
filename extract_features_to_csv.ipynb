{
 "cells": [
  {
   "cell_type": "markdown",
   "metadata": {},
   "source": [
    "## Query a feature layer item and save results in a csv\n"
   ]
  },
  {
   "cell_type": "markdown",
   "metadata": {},
   "source": [
    "#### Imports and connect to GIS"
   ]
  },
  {
   "cell_type": "code",
   "execution_count": 2,
   "metadata": {},
   "outputs": [],
   "source": [
    "from arcgis.gis import GIS\n",
    "from arcgis.features import FeatureLayer\n",
    "import csv\n",
    "gis = GIS(\"home\")"
   ]
  },
  {
   "cell_type": "markdown",
   "metadata": {},
   "source": [
    "#### Retrieve feature layer containing observations"
   ]
  },
  {
   "cell_type": "code",
   "execution_count": 8,
   "metadata": {},
   "outputs": [
    {
     "data": {
      "text/plain": [
       "'Feature Service'"
      ]
     },
     "execution_count": 8,
     "metadata": {},
     "output_type": "execute_result"
    }
   ],
   "source": [
    "# retrieve the feature layer containing the observations\n",
    "item_id = \"45138dc0edcf4b57a0a4272979e2c68f\"\n",
    "item = gis.content.get(item_id)\n",
    "item.type"
   ]
  },
  {
   "cell_type": "markdown",
   "metadata": {},
   "source": [
    "#### Query features"
   ]
  },
  {
   "cell_type": "code",
   "execution_count": 9,
   "metadata": {},
   "outputs": [],
   "source": [
    "if item and item.type == \"Feature Service\":\n",
    "    feature_layer = FeatureLayer(item.layers[0].url)\n",
    "    features = feature_layer.query(where=\"1=1\", out_fields=\"*\", return_geometry=True, result_offset=6000, result_record_count=10000, return_all_records=False)"
   ]
  },
  {
   "cell_type": "code",
   "execution_count": 10,
   "metadata": {},
   "outputs": [],
   "source": [
    "if features: \n",
    "    filename = \"bike_station_observations.csv\"\n",
    "\n",
    "    with open(filename, 'w', newline='') as csv_file:\n",
    "        writer = csv.writer(csv_file)\n",
    "        headers = features.fields\n",
    "        header_names_attributes = [field['name'] for field in headers]\n",
    "        #get geometry as well\n",
    "        header_names_geometry = ['x', 'y']\n",
    "        writer.writerow(header_names_attributes + header_names_geometry)\n",
    "        \n",
    "        for feature in features:\n",
    "            attributes=[feature.attributes[field] for field in header_names_attributes]\n",
    "            geometry = [feature.geometry[field] for field in header_names_geometry]\n",
    "            writer.writerow(attributes + geometry)\n",
    "            \n",
    "    item_properties ={\n",
    "        \"title\": \"bike_stations_observations\",\n",
    "        \"type\": \"CSV\"\n",
    "    }\n",
    "    csv_item = gis.content.add(item_properties, data=filename)"
   ]
  },
  {
   "cell_type": "code",
   "execution_count": null,
   "metadata": {},
   "outputs": [],
   "source": []
  }
 ],
 "metadata": {
  "esriNotebookRuntime": {
   "notebookRuntimeName": "ArcGIS Notebook Python 3 Standard",
   "notebookRuntimeVersion": "8.0"
  },
  "kernelspec": {
   "display_name": "Python 3 (ipykernel)",
   "language": "python",
   "name": "python3"
  },
  "language_info": {
   "codemirror_mode": {
    "name": "ipython",
    "version": 3
   },
   "file_extension": ".py",
   "mimetype": "text/x-python",
   "name": "python",
   "nbconvert_exporter": "python",
   "pygments_lexer": "ipython3",
   "version": "3.9.16"
  }
 },
 "nbformat": 4,
 "nbformat_minor": 2
}
